{
 "cells": [
  {
   "cell_type": "markdown",
   "metadata": {},
   "source": [
    "# 基于Spark的气象数据处理与分析\n",
    "Author: dsy\n",
    "Time: 2020-11-09\n",
    "***"
   ]
  },
  {
   "cell_type": "markdown",
   "metadata": {},
   "source": [
    "0. 导入库"
   ]
  },
  {
   "cell_type": "code",
   "execution_count": 1,
   "metadata": {},
   "outputs": [],
   "source": [
    "from pyspark.sql import SparkSession\n",
    "from pyspark.sql import functions as F\n",
    "from pyspark.sql.types import DecimalType,TimestampType\n",
    "import os\n",
    "import math"
   ]
  },
  {
   "cell_type": "markdown",
   "metadata": {},
   "source": [
    "1. 计算各个城市过去24小时累积雨量"
   ]
  },
  {
   "cell_type": "code",
   "execution_count": 2,
   "metadata": {},
   "outputs": [],
   "source": [
    "def passed_rain_analyse(filename): #计算各个城市过去24小时累积雨量\n",
    "    \n",
    "    spark = SparkSession.builder.master(\"local[*]\").appName(\"passed_rain_analyse\").getOrCreate()\n",
    "    df = spark.read.load(filename,\n",
    "                         format=\"csv\", \n",
    "                         header=\"true\")\n",
    "    \n",
    "    df_rain = df.select(df['province'],df['city_name'],df['city_code'],df['rain1h'].cast(DecimalType(scale=2)))\\\n",
    "        .filter(df['rain1h'] < 1000)\\\n",
    "    .groupBy(\"province\",\"city_name\",\"city_code\")\\\n",
    "        .agg(F.sum(\"rain1h\").alias(\"rain24h\"))\\\n",
    "        .sort(F.desc(\"rain24h\")) # 分组、求和、排序\n",
    "    \n",
    "    df_rain.show()\n",
    "    spark.stop()\n"
   ]
  },
  {
   "cell_type": "code",
   "execution_count": 3,
   "metadata": {},
   "outputs": [
    {
     "name": "stdout",
     "output_type": "stream",
     "text": [
      "+--------------+---------+---------+-------+\n",
      "|      province|city_name|city_code|rain24h|\n",
      "+--------------+---------+---------+-------+\n",
      "|  内蒙古自治区|     商都|    53385| 274.70|\n",
      "|广西壮族自治区|     天等|    59227| 266.20|\n",
      "|广西壮族自治区|     忻城|    59038| 200.90|\n",
      "|        福建省|     建阳|    58734| 151.70|\n",
      "|        海南省|     中沙|    59979| 118.80|\n",
      "|        海南省|     海口|    59758| 118.80|\n",
      "|广西壮族自治区|     东兴|    59626| 110.50|\n",
      "|        广东省|     龙川|    59107| 107.90|\n",
      "|广西壮族自治区|     田东|    59224| 107.80|\n",
      "|广西壮族自治区|     平果|    59228| 102.80|\n",
      "|        广东省|     增城|    59294| 102.10|\n",
      "|广西壮族自治区|     陆川|    59457| 101.00|\n",
      "|广西壮族自治区|     防城|    59631|  91.90|\n",
      "|广西壮族自治区|     上林|    59235|  90.80|\n",
      "|        广东省|     河源|    59293|  84.40|\n",
      "|广西壮族自治区|     巴马|    59027|  80.80|\n",
      "|        云南省|     金平|    56987|  78.40|\n",
      "|        广东省|     广州|    59287|  76.70|\n",
      "|        福建省|     东山|    59321|  75.90|\n",
      "|广西壮族自治区|     崇左|    59425|  74.40|\n",
      "+--------------+---------+---------+-------+\n",
      "only showing top 20 rows\n",
      "\n"
     ]
    }
   ],
   "source": [
    "passed_rain_analyse(\"data/weather_noall.csv\")"
   ]
  },
  {
   "cell_type": "markdown",
   "metadata": {},
   "source": [
    "2.计算各个城市当日平均气温"
   ]
  },
  {
   "cell_type": "code",
   "execution_count": 4,
   "metadata": {},
   "outputs": [],
   "source": [
    "def passed_temperature_analyse(filename):\n",
    "    spark = SparkSession.builder.master(\"local[*]\").appName(\"passed_temperature_analyse\").getOrCreate()\n",
    "    df = spark.read.load(filename,\n",
    "                         format=\"csv\", \n",
    "                         header=\"true\")\n",
    "    df_temperature = df.select( #选择需要的列\n",
    "            df['province'],\n",
    "            df['city_name'],\n",
    "            df['city_code'],\n",
    "            df['temperature'].cast(DecimalType(scale=2)),\n",
    "            F.date_format(df['time'],\"yyyy-MM-dd\").alias(\"date\"), #得到日期数据\n",
    "            F.hour(df['time']).alias(\"hour\") #得到小时数据\n",
    "    )\n",
    "    # 筛选四点时次\n",
    "    df_4point_temperature = df_temperature.filter(df_temperature['hour'].isin([2,8,12,20]))\n",
    "    \n",
    "    df_avg_temperature = df_4point_temperature.groupBy(\"province\",\"city_name\",\"city_code\",\"date\")\\\n",
    "        .agg(F.count(\"temperature\"),F.avg(\"temperature\").alias(\"avg_temperature\"))\\\n",
    "        .filter(\"count(temperature) = 4\")\\\n",
    "        .sort(F.asc(\"avg_temperature\"))\\\n",
    "        .select(\"province\",\"city_name\",\"city_code\",\"date\",F.format_number('avg_temperature',2).alias(\"avg_temperature\"))\n",
    "    \n",
    "#     df_avg_temperature.printSchema()\n",
    "    df_avg_temperature.show()\n",
    "    spark.stop()"
   ]
  },
  {
   "cell_type": "code",
   "execution_count": 5,
   "metadata": {},
   "outputs": [
    {
     "name": "stdout",
     "output_type": "stream",
     "text": [
      "+--------------+---------+---------+----------+---------------+\n",
      "|      province|city_name|city_code|      date|avg_temperature|\n",
      "+--------------+---------+---------+----------+---------------+\n",
      "|        青海省|     泽库|    52968|2019-05-28|           4.82|\n",
      "|        四川省|   峨眉山|    56385|2019-05-28|           5.48|\n",
      "|    西藏自治区|     普兰|    55437|2019-05-28|           5.75|\n",
      "|        青海省|     河南|    56065|2019-05-28|           5.80|\n",
      "|        青海省|     天峻|    52745|2019-05-28|           6.98|\n",
      "|        青海省|     杂多|    56018|2019-05-28|           7.05|\n",
      "|        青海省|     玛沁|    56043|2019-05-28|           7.25|\n",
      "|        青海省|     刚察|    52754|2019-05-28|           7.42|\n",
      "|        青海省|     玉树|    56029|2019-05-28|           7.62|\n",
      "|        青海省|     海晏|    52853|2019-05-28|           7.90|\n",
      "|        甘肃省|     正宁|    53935|2019-05-28|           8.05|\n",
      "|        甘肃省|     华亭|    53927|2019-05-28|           8.45|\n",
      "|        甘肃省|     西峰|    53923|2019-05-28|           8.45|\n",
      "|      黑龙江省|     伊春|    50774|2019-05-28|           8.58|\n",
      "|宁夏回族自治区|     西吉|    53903|2019-05-28|           8.58|\n",
      "|        甘肃省|     临潭|    56081|2019-05-28|           8.75|\n",
      "|        四川省|     阿坝|    56171|2019-05-28|           8.92|\n",
      "|宁夏回族自治区|     固原|    53817|2019-05-28|           8.98|\n",
      "|        甘肃省|     崆峒|    53915|2019-05-28|           9.30|\n",
      "|        甘肃省|     东乡|    52981|2019-05-28|           9.40|\n",
      "+--------------+---------+---------+----------+---------------+\n",
      "only showing top 20 rows\n",
      "\n"
     ]
    }
   ],
   "source": [
    "passed_temperature_analyse(\"data/weather_noall.csv\")"
   ]
  }
 ],
 "metadata": {
  "kernelspec": {
   "display_name": "Python 3",
   "language": "python",
   "name": "python3"
  },
  "language_info": {
   "codemirror_mode": {
    "name": "ipython",
    "version": 3
   },
   "file_extension": ".py",
   "mimetype": "text/x-python",
   "name": "python",
   "nbconvert_exporter": "python",
   "pygments_lexer": "ipython3",
   "version": "3.7.2"
  }
 },
 "nbformat": 4,
 "nbformat_minor": 4
}
